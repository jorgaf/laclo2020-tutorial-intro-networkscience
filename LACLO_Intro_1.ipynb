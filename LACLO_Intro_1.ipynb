{
  "nbformat": 4,
  "nbformat_minor": 0,
  "metadata": {
    "colab": {
      "name": "LACLO_Intro_1.ipynb",
      "provenance": [],
      "collapsed_sections": []
    },
    "kernelspec": {
      "name": "python3",
      "display_name": "Python 3"
    }
  },
  "cells": [
    {
      "cell_type": "markdown",
      "metadata": {
        "id": "xN0qh5Qx5CgG"
      },
      "source": [
        "![Laclo](https://drive.google.com/uc?id=1d2dvJclPGX8fC3xQy6neJH7vn-UYZl0U)\n",
        "# Introducción a Network Science usando Google Colaboratory y NetworkX"
      ]
    },
    {
      "cell_type": "markdown",
      "metadata": {
        "id": "aot2WwfM7LRb"
      },
      "source": [
        "Jorge Lopez-Vargas / jalopez2@utpl.edu.ec / @jorgaf"
      ]
    },
    {
      "cell_type": "markdown",
      "metadata": {
        "id": "Q9gfpw6N7ajz"
      },
      "source": [
        "## Introducción\n",
        "\n",
        "Las redes están por todas partes y casi todo se puede representar como una red.\n",
        "\n",
        "Indudablemente, existe la tendencia de asociar a las redes con las redes sociales en línea, tales como Twitter o Facebook, pero el concepto de red se remonta mucho antes. Se habla del uso de las redes por parte de Euler para resolver el problema de los [Puentes de Königsberg](https://es.wikipedia.org/wiki/Problema_de_los_puentes_de_Königsberg).\n",
        "\n",
        "Recién el estudio de las redes sociales se inicia en el año 1933 con los trabajos publicados por Jacob Moreno y en 1967 se hizo posiblemente el experimento más conocido, de la mano de Stanley Milgram, denominado [Mundo pequeño](https://en.wikipedia.org/wiki/Small-world_experiment) (small world) que luego pasó a conocerse como los 6 grados de separación, según el cual dos personas completamente desconocidas, inclusive, viviendo en sitios completamente alejados, están unidos entre sí por 6 personas. Este expermento se repitió en 1997 usando correo electrónico y los resultados fueron casi los mismos.\n",
        "\n",
        "Para su estudio se han desarrollado varios modelos, como el propuesto por [Erdös y Rényi](https://en.wikipedia.org/wiki/Erdős–Rényi_model) o el modelo Barabási-Albert de conexión preferencial, este último con mayor precisión a la hora de generar redes como las que se encuentran en el mundo real.\n",
        "\n",
        "Las redes son la base para algunos algoritmos famosos, como el utilizado por google para mostrar los resultados de las búsquedas,denominado [PageRank](https://es.wikipedia.org/wiki/PageRank) en donde se deja de lado el conteo de palabras por un medida que se basa en las conexiones entre sitios Web.\n",
        "\n",
        "Las redes son un forma general de modelar y estudiar sitemas complejos con muchos elementos que interactúan. Permiten representar diferentes tipos de objetos desde personas hasta páginas Web, desde proteínas a especies, desde routers de Internet a aeropuertos y sus interacciones, desde la físicas a las virtuales, de las químicas a las sociales."
      ]
    },
    {
      "cell_type": "markdown",
      "metadata": {
        "id": "vYxEm9vNIRW_"
      },
      "source": [
        "## Elementos básicos\n",
        "\n",
        "**Red o grafo**: es un conjunto de elementos llamadods *nodos* y otro conjunto de conexiones entre pares de nodos, que se denominan *enlaces*.\n",
        "La representación gráfica es la siguiente:\n",
        "![Red](https://drive.google.com/uc?id=1_flvF_1QFeNcKg7DYtI1vvDn2k8WouN1)\n",
        "\n",
        "Existen redes dirigidas y no dirigidas (llamadas también digrafos). En una red dirigida a los enlaces se los denomina enlaces dirigidos y la punta de flecha señala la dirección, es decir existe un nodo origen y otro destino.\n",
        "\n",
        "En una red no dirigida todos los enlaces son bidireccionales y no existe el concepto de nodo origen ni destino.\n"
      ]
    },
    {
      "cell_type": "code",
      "metadata": {
        "id": "9qnHe_ybkZoR",
        "cellView": "form",
        "outputId": "57ed900f-b671-4a1f-99fc-be853bd67994",
        "colab": {
          "base_uri": "https://localhost:8080/",
          "height": 319
        }
      },
      "source": [
        "#@title\n",
        "unDirectedGraph = nx.erdos_renyi_graph(5, 0.35, directed=False)\n",
        "nx.draw(unDirectedGraph, with_labels=True)"
      ],
      "execution_count": 22,
      "outputs": [
        {
          "output_type": "display_data",
          "data": {
            "image/png": "[encoded data removed]",
            "text/plain": [
              "<Figure size 432x288 with 1 Axes>"
            ]
          },
          "metadata": {
            "tags": []
          }
        }
      ]
    },
    {
      "cell_type": "code",
      "metadata": {
        "id": "j-7py3cBmM-H",
        "cellView": "form",
        "outputId": "d31c2c67-e221-41ef-aba2-9106a918a988",
        "colab": {
          "base_uri": "https://localhost:8080/",
          "height": 319
        }
      },
      "source": [
        "#@title\n",
        "directedGraph = nx.erdos_renyi_graph(5, 0.3, directed=True)\n",
        "nx.draw(directedGraph, with_labels=True)"
      ],
      "execution_count": 24,
      "outputs": [
        {
          "output_type": "display_data",
          "data": {
            "image/png": "[encoded data removed]",
            "text/plain": [
              "<Figure size 432x288 with 1 Axes>"
            ]
          },
          "metadata": {
            "tags": []
          }
        }
      ]
    },
    {
      "cell_type": "markdown",
      "metadata": {
        "id": "lpCbV4HAg2Cd"
      },
      "source": [
        "También se puede clasificar a las redes en poderadas o no ponderadas(weighted or unweighted) dependiendo si sus enlaces tienen pesos asociados. El peso es un propiedad que puede señalar la intensidad de la relación.\n"
      ]
    },
    {
      "cell_type": "markdown",
      "metadata": {
        "id": "o5MOEB-BK5qZ"
      },
      "source": [
        "### Redes en NetworkX"
      ]
    },
    {
      "cell_type": "code",
      "metadata": {
        "id": "4_xpjvJTTZjX"
      },
      "source": [
        "!pip list"
      ],
      "execution_count": null,
      "outputs": []
    },
    {
      "cell_type": "code",
      "metadata": {
        "id": "aUkFe_VCDf6i"
      },
      "source": [
        "import networkx as nx\n",
        "%matplotlib inline"
      ],
      "execution_count": 1,
      "outputs": []
    },
    {
      "cell_type": "code",
      "metadata": {
        "id": "XnZP5lgbE9Is",
        "outputId": "c45979db-1b15-4ac8-e85d-95acc9cdf4eb",
        "colab": {
          "base_uri": "https://localhost:8080/",
          "height": 35
        }
      },
      "source": [
        "nx.__version__"
      ],
      "execution_count": 11,
      "outputs": [
        {
          "output_type": "execute_result",
          "data": {
            "application/vnd.google.colaboratory.intrinsic+json": {
              "type": "string"
            },
            "text/plain": [
              "'2.5'"
            ]
          },
          "metadata": {
            "tags": []
          },
          "execution_count": 11
        }
      ]
    },
    {
      "cell_type": "code",
      "metadata": {
        "id": "Zr-s4Op6FEmC"
      },
      "source": [
        "# Red no dirigida\n",
        "G = nx.Graph() "
      ],
      "execution_count": 2,
      "outputs": []
    },
    {
      "cell_type": "code",
      "metadata": {
        "id": "GvyhPyBDgkcd",
        "outputId": "15d70136-b04c-4f31-8a8d-7dce76214fac",
        "colab": {
          "base_uri": "https://localhost:8080/",
          "height": 34
        }
      },
      "source": [
        "print(\"¿Es una red dirigida?\", G.is_directed())"
      ],
      "execution_count": 19,
      "outputs": [
        {
          "output_type": "stream",
          "text": [
            "¿Es una red dirigida? False\n"
          ],
          "name": "stdout"
        }
      ]
    },
    {
      "cell_type": "code",
      "metadata": {
        "id": "Gx7XjK6yg0OA",
        "outputId": "94555bd6-2437-4b5d-f8db-876cd8a53ed9",
        "colab": {
          "base_uri": "https://localhost:8080/",
          "height": 51
        }
      },
      "source": [
        "print(\"Número nodos (N): \", G.number_of_nodes())\n",
        "print(\"Número enlaces (L): \", G.number_of_edges())"
      ],
      "execution_count": 18,
      "outputs": [
        {
          "output_type": "stream",
          "text": [
            "Número nodos:  0\n",
            "Número enlaces:  0\n"
          ],
          "name": "stdout"
        }
      ]
    },
    {
      "cell_type": "markdown",
      "metadata": {
        "id": "jw_lDOecVTIT"
      },
      "source": [
        "**Nodos**\n",
        "\n",
        "Dentro de una red un nodo se representa como un punto o como un círculo. Conceptualmente puede ser cualquier entidad del problema que se está representando, entonces un nodo puede ser: personas si se trata de una red social.\n",
        "\n",
        "Un nodo puede tener muchas propiedades, pero la primera que se necesita es un identificador.\n",
        "\n",
        "El número de nodos se representa por N y se dice que es el tamaño de la red"
      ]
    },
    {
      "cell_type": "markdown",
      "metadata": {
        "id": "KejKWLuJk4SX"
      },
      "source": [
        "### Nodos en NetworkX"
      ]
    },
    {
      "cell_type": "code",
      "metadata": {
        "id": "4N-PZG9HZA4L"
      },
      "source": [
        "G.add_node('a')"
      ],
      "execution_count": 3,
      "outputs": []
    },
    {
      "cell_type": "code",
      "metadata": {
        "id": "kWjxNZDWZHCR"
      },
      "source": [
        "# Agregar usando una secuencia\n",
        "nodes_to_add = ['b', 'c', 'd']\n",
        "G.add_nodes_from( nodes_to_add )"
      ],
      "execution_count": 4,
      "outputs": []
    },
    {
      "cell_type": "code",
      "metadata": {
        "id": "9mb3BXpJpFng",
        "outputId": "7636c968-8a56-4bb1-89a3-4e3585420b27",
        "colab": {
          "base_uri": "https://localhost:8080/",
          "height": 319
        }
      },
      "source": [
        "# Visualizar la red\n",
        "nx.draw(G)"
      ],
      "execution_count": 5,
      "outputs": [
        {
          "output_type": "display_data",
          "data": {
            "image/png": "[encoded data removed]",
            "text/plain": [
              "<Figure size 432x288 with 1 Axes>"
            ]
          },
          "metadata": {
            "tags": []
          }
        }
      ]
    },
    {
      "cell_type": "code",
      "metadata": {
        "id": "F5K9GofBpOV-",
        "outputId": "333fa0b4-f069-40d0-fb8b-6a253f622a67",
        "colab": {
          "base_uri": "https://localhost:8080/",
          "height": 319
        }
      },
      "source": [
        "# Visualizar la red y cada nodo con etiqueta\n",
        "nx.draw ( G, with_labels=True )"
      ],
      "execution_count": 6,
      "outputs": [
        {
          "output_type": "display_data",
          "data": {
            "image/png": "[encoded data removed]",
            "text/plain": [
              "<Figure size 432x288 with 1 Axes>"
            ]
          },
          "metadata": {
            "tags": []
          }
        }
      ]
    },
    {
      "cell_type": "markdown",
      "metadata": {
        "id": "bg8ddvJSmP1t"
      },
      "source": [
        "**Enlaces**\n",
        "Se representa como las líneas que unen a dos nodos y señalan la existencia de una relación entre ambas entidades.\n",
        "\n",
        "Al igual que los nodos, un enlace puede tener muchas propiedades, pero la más conocida es el peso, que como ya se dijo, señala la intensidad de la relación.\n",
        "\n",
        "Un enlace puede tener dirección, que señala el orden de la relación, es decir permite clasificar en nodo origen (desde donde sale la relación) y nodo destino, en donde llega la flecha.\n",
        "\n",
        "En número de enlaces se conoce representa como L"
      ]
    },
    {
      "cell_type": "markdown",
      "metadata": {
        "id": "Jweql29yoUGl"
      },
      "source": [
        "### Enlaces en NetworkX"
      ]
    },
    {
      "cell_type": "code",
      "metadata": {
        "id": "pfGh0QSrZL7A"
      },
      "source": [
        "# Agregar un enlace entre a y b\n",
        "G.add_edge( 'a', 'b')"
      ],
      "execution_count": 8,
      "outputs": []
    },
    {
      "cell_type": "code",
      "metadata": {
        "id": "rgEvrpoCZbYN"
      },
      "source": [
        "# Agregar una secuencia de enlaces\n",
        "edges_to_add = [( 'a', 'c'), ( 'b', 'c' ), ( 'c', 'd' )]\n",
        "G.add_edges_from( edges_to_add )"
      ],
      "execution_count": 9,
      "outputs": []
    },
    {
      "cell_type": "code",
      "metadata": {
        "id": "t0l4yahVZvPm",
        "outputId": "068c3857-098d-4266-c1f9-c1b38e5e268a",
        "colab": {
          "base_uri": "https://localhost:8080/",
          "height": 319
        }
      },
      "source": [
        "# Visualizar la red\n",
        "nx.draw( G )"
      ],
      "execution_count": 10,
      "outputs": [
        {
          "output_type": "display_data",
          "data": {
            "image/png": "[encoded data removed]",
            "text/plain": [
              "<Figure size 432x288 with 1 Axes>"
            ]
          },
          "metadata": {
            "tags": []
          }
        }
      ]
    },
    {
      "cell_type": "code",
      "metadata": {
        "id": "vuA0qF3XZ3QE",
        "outputId": "7a5a8793-efae-4ace-e43b-4ef557db9027",
        "colab": {
          "base_uri": "https://localhost:8080/",
          "height": 319
        }
      },
      "source": [
        "# Visualizar la red con ciertas propiedades\n",
        "nx.draw( G,\n",
        "        with_labels=True,\n",
        "        node_color = 'red',\n",
        "        node_size= 670,\n",
        "        font_color = 'white',\n",
        "        font_size=16)"
      ],
      "execution_count": 22,
      "outputs": [
        {
          "output_type": "display_data",
          "data": {
            "image/png": "[encoded data removed]",
            "text/plain": [
              "<Figure size 432x288 with 1 Axes>"
            ]
          },
          "metadata": {
            "tags": []
          }
        }
      ]
    },
    {
      "cell_type": "markdown",
      "metadata": {
        "id": "T7-3AAL9qujf"
      },
      "source": [
        "### Métodos de una red"
      ]
    },
    {
      "cell_type": "code",
      "metadata": {
        "id": "bJXCYgFQbO3A",
        "outputId": "de437118-817a-4af5-eca6-f3d21a360b2d",
        "colab": {
          "base_uri": "https://localhost:8080/"
        }
      },
      "source": [
        "# Listar todos los nodos\n",
        "G.nodes()"
      ],
      "execution_count": null,
      "outputs": [
        {
          "output_type": "execute_result",
          "data": {
            "text/plain": [
              "NodeView(('a', 'b', 'c', 'd'))"
            ]
          },
          "metadata": {
            "tags": []
          },
          "execution_count": 13
        }
      ]
    },
    {
      "cell_type": "code",
      "metadata": {
        "id": "lI5hoYYTbbOs",
        "outputId": "69979e0b-c2fd-4f0c-b9ca-b86bee7c9121",
        "colab": {
          "base_uri": "https://localhost:8080/"
        }
      },
      "source": [
        "# Listar todos los enlaces\n",
        "G.edges()"
      ],
      "execution_count": null,
      "outputs": [
        {
          "output_type": "execute_result",
          "data": {
            "text/plain": [
              "EdgeView([('a', 'b'), ('a', 'c'), ('b', 'c'), ('c', 'd')])"
            ]
          },
          "metadata": {
            "tags": []
          },
          "execution_count": 14
        }
      ]
    },
    {
      "cell_type": "code",
      "metadata": {
        "id": "aDKPFRqqbeQh",
        "outputId": "6f6267e6-21b9-47c3-e0ec-f9865c625dcc",
        "colab": {
          "base_uri": "https://localhost:8080/",
          "height": 85
        }
      },
      "source": [
        "# Los objetos NodeView y EdgeView tienen iterators, así que se los puede utilizar en ciclos repetitivos\n",
        "for node in G.nodes:\n",
        "  print( node )"
      ],
      "execution_count": 11,
      "outputs": [
        {
          "output_type": "stream",
          "text": [
            "a\n",
            "b\n",
            "c\n",
            "d\n"
          ],
          "name": "stdout"
        }
      ]
    },
    {
      "cell_type": "code",
      "metadata": {
        "id": "DCzkzEJJbjkE",
        "outputId": "06e10843-2579-4b20-b023-aa1bdcf6be7c",
        "colab": {
          "base_uri": "https://localhost:8080/"
        }
      },
      "source": [
        "for edge in G.edges:\n",
        "  print(edge)"
      ],
      "execution_count": null,
      "outputs": [
        {
          "output_type": "stream",
          "text": [
            "('a', 'b')\n",
            "('a', 'c')\n",
            "('b', 'c')\n",
            "('c', 'd')\n"
          ],
          "name": "stdout"
        }
      ]
    },
    {
      "cell_type": "code",
      "metadata": {
        "id": "GLXcMvUwbp2E",
        "outputId": "28fa06a0-680a-40e5-adae-f6e071745497",
        "colab": {
          "base_uri": "https://localhost:8080/"
        }
      },
      "source": [
        "# Obtener el valor de N\n",
        "G.number_of_nodes()"
      ],
      "execution_count": null,
      "outputs": [
        {
          "output_type": "execute_result",
          "data": {
            "text/plain": [
              "4"
            ]
          },
          "metadata": {
            "tags": []
          },
          "execution_count": 17
        }
      ]
    },
    {
      "cell_type": "code",
      "metadata": {
        "id": "q_lEJY1NbvNK",
        "outputId": "5eadca07-c7a5-458a-fd3b-659b4f15141b",
        "colab": {
          "base_uri": "https://localhost:8080/"
        }
      },
      "source": [
        "# Obtener el valor de L\n",
        "G.number_of_edges()"
      ],
      "execution_count": null,
      "outputs": [
        {
          "output_type": "execute_result",
          "data": {
            "text/plain": [
              "4"
            ]
          },
          "metadata": {
            "tags": []
          },
          "execution_count": 18
        }
      ]
    },
    {
      "cell_type": "code",
      "metadata": {
        "id": "QfdvK6pfbxEA",
        "outputId": "0f203fb5-cd77-4906-d58e-33f13c1c29f7",
        "colab": {
          "base_uri": "https://localhost:8080/"
        }
      },
      "source": [
        "# Listar los vecinos del nodo b\n",
        "G.neighbors( 'b' )"
      ],
      "execution_count": null,
      "outputs": [
        {
          "output_type": "execute_result",
          "data": {
            "text/plain": [
              "<dict_keyiterator at 0x7f831dec9908>"
            ]
          },
          "metadata": {
            "tags": []
          },
          "execution_count": 19
        }
      ]
    },
    {
      "cell_type": "code",
      "metadata": {
        "id": "351rFF0ccDj0",
        "outputId": "9ed76463-c486-455f-eaca-4652358619ba",
        "colab": {
          "base_uri": "https://localhost:8080/"
        }
      },
      "source": [
        "# Por desempeño, muchos métodos de la clase graph devuelven iterators en lugar de listas. Los cuales son convenientes para \n",
        "for neighbor in G.neighbors( 'b' ):\n",
        "  print(neighbor)"
      ],
      "execution_count": null,
      "outputs": [
        {
          "output_type": "stream",
          "text": [
            "a\n",
            "c\n"
          ],
          "name": "stdout"
        }
      ]
    },
    {
      "cell_type": "code",
      "metadata": {
        "id": "8pWF1V58cPwa",
        "outputId": "52c0a9b8-9035-4c1f-d49c-c222aa5931d1",
        "colab": {
          "base_uri": "https://localhost:8080/"
        }
      },
      "source": [
        "# Tambien se puede usar el constructor de una lista para convertir el iterator a una lista\n",
        "list(G.neighbors('b'))"
      ],
      "execution_count": null,
      "outputs": [
        {
          "output_type": "execute_result",
          "data": {
            "text/plain": [
              "['a', 'c']"
            ]
          },
          "metadata": {
            "tags": []
          },
          "execution_count": 21
        }
      ]
    },
    {
      "cell_type": "code",
      "metadata": {
        "id": "h38-xl10cmev",
        "outputId": "cab6b687-fe9a-4a87-eee7-0a6fecc65022",
        "colab": {
          "base_uri": "https://localhost:8080/"
        }
      },
      "source": [
        "G.has_node('a')"
      ],
      "execution_count": null,
      "outputs": [
        {
          "output_type": "execute_result",
          "data": {
            "text/plain": [
              "True"
            ]
          },
          "metadata": {
            "tags": []
          },
          "execution_count": 24
        }
      ]
    },
    {
      "cell_type": "code",
      "metadata": {
        "id": "nHSTzKQ6csdy",
        "outputId": "62e5dc0d-64ba-47d6-cbd7-1258f5bb40ab",
        "colab": {
          "base_uri": "https://localhost:8080/"
        }
      },
      "source": [
        "G.has_node('x')"
      ],
      "execution_count": null,
      "outputs": [
        {
          "output_type": "execute_result",
          "data": {
            "text/plain": [
              "False"
            ]
          },
          "metadata": {
            "tags": []
          },
          "execution_count": 25
        }
      ]
    },
    {
      "cell_type": "code",
      "metadata": {
        "id": "YOuOoRnUcurJ",
        "outputId": "454a961c-f74c-48ea-eb3b-a2026ad4e18a",
        "colab": {
          "base_uri": "https://localhost:8080/"
        }
      },
      "source": [
        "'d' in G.nodes"
      ],
      "execution_count": null,
      "outputs": [
        {
          "output_type": "execute_result",
          "data": {
            "text/plain": [
              "True"
            ]
          },
          "metadata": {
            "tags": []
          },
          "execution_count": 26
        }
      ]
    },
    {
      "cell_type": "code",
      "metadata": {
        "id": "PA_Uzd1Jc2AV",
        "outputId": "3e4c25d6-8a65-4506-a94d-841b4be17077",
        "colab": {
          "base_uri": "https://localhost:8080/"
        }
      },
      "source": [
        "G.has_edge('a', 'b')"
      ],
      "execution_count": null,
      "outputs": [
        {
          "output_type": "execute_result",
          "data": {
            "text/plain": [
              "True"
            ]
          },
          "metadata": {
            "tags": []
          },
          "execution_count": 28
        }
      ]
    },
    {
      "cell_type": "code",
      "metadata": {
        "id": "hLayHU_6c6xb",
        "outputId": "d278847c-3fbc-4089-f88f-c73ef45c6c99",
        "colab": {
          "base_uri": "https://localhost:8080/"
        }
      },
      "source": [
        "G.has_edge('a', 'd')"
      ],
      "execution_count": null,
      "outputs": [
        {
          "output_type": "execute_result",
          "data": {
            "text/plain": [
              "False"
            ]
          },
          "metadata": {
            "tags": []
          },
          "execution_count": 30
        }
      ]
    },
    {
      "cell_type": "code",
      "metadata": {
        "id": "x3dFXwrodBFn",
        "outputId": "3da24426-cb04-4211-a730-0cb0a4401516",
        "colab": {
          "base_uri": "https://localhost:8080/"
        }
      },
      "source": [
        "('c', 'd') in G.edges"
      ],
      "execution_count": null,
      "outputs": [
        {
          "output_type": "execute_result",
          "data": {
            "text/plain": [
              "True"
            ]
          },
          "metadata": {
            "tags": []
          },
          "execution_count": 31
        }
      ]
    },
    {
      "cell_type": "markdown",
      "metadata": {
        "id": "7mpavJ82tXeC"
      },
      "source": [
        "### Métodos de NetworkX"
      ]
    },
    {
      "cell_type": "code",
      "metadata": {
        "id": "7eE23PCDcVZP",
        "outputId": "e8eb17c5-b39e-416f-d7a7-543924fa0fcb",
        "colab": {
          "base_uri": "https://localhost:8080/"
        }
      },
      "source": [
        "nx.is_tree(G)"
      ],
      "execution_count": null,
      "outputs": [
        {
          "output_type": "execute_result",
          "data": {
            "text/plain": [
              "False"
            ]
          },
          "metadata": {
            "tags": []
          },
          "execution_count": 22
        }
      ]
    },
    {
      "cell_type": "code",
      "metadata": {
        "id": "9sKbc9iecjxf",
        "outputId": "b19c9522-13b1-4605-fcd6-73d7604be6a3",
        "colab": {
          "base_uri": "https://localhost:8080/"
        }
      },
      "source": [
        "nx.is_connected(G)"
      ],
      "execution_count": null,
      "outputs": [
        {
          "output_type": "execute_result",
          "data": {
            "text/plain": [
              "True"
            ]
          },
          "metadata": {
            "tags": []
          },
          "execution_count": 23
        }
      ]
    },
    {
      "cell_type": "markdown",
      "metadata": {
        "id": "sL7F7_8Ie-vy"
      },
      "source": [
        "## Grado de un nodo\n",
        "\n",
        "Una de las primeras que se hace cuando se trabaja con redes es con cuántos nodos se conecta cada uno de los nodos que forman la red.\n",
        "\n",
        "Esa medida se conoce como grado y se puede usar como una aproximación para medir, por ejemplo la popularidad de un nodo. Entre más conexiones tiene un nodo, mayor será su grado y mayor será su popularidad.\n",
        "\n"
      ]
    },
    {
      "cell_type": "code",
      "metadata": {
        "id": "wS8E2xEBdG10",
        "outputId": "0f2ab78a-d07c-46d7-b5ce-95f66fc5d227",
        "colab": {
          "base_uri": "https://localhost:8080/"
        }
      },
      "source": [
        "#Usando el método neighbors\n",
        "len(list(G.neighbors('a')))"
      ],
      "execution_count": null,
      "outputs": [
        {
          "output_type": "execute_result",
          "data": {
            "text/plain": [
              "2"
            ]
          },
          "metadata": {
            "tags": []
          },
          "execution_count": 32
        }
      ]
    },
    {
      "cell_type": "code",
      "metadata": {
        "id": "H7RqWNn7fLqW",
        "outputId": "b39115f2-309f-4bd2-a54d-b5ecae6335cf",
        "colab": {
          "base_uri": "https://localhost:8080/"
        }
      },
      "source": [
        "# Pero como es una actividad bastante común NetworkX provee a la clase Graph de un método que hace ese trabajo de una manera más clara\n",
        "G.degree('a')"
      ],
      "execution_count": null,
      "outputs": [
        {
          "output_type": "execute_result",
          "data": {
            "text/plain": [
              "2"
            ]
          },
          "metadata": {
            "tags": []
          },
          "execution_count": 33
        }
      ]
    },
    {
      "cell_type": "code",
      "metadata": {
        "id": "DN4c6is3fNnv"
      },
      "source": [
        "def get_leaves(G):\n",
        "  return [ node for node in G.nodes() if G.degree(node) == 1 ]\n"
      ],
      "execution_count": null,
      "outputs": []
    },
    {
      "cell_type": "code",
      "metadata": {
        "id": "-QBCWuOTgdHj"
      },
      "source": [
        "G = nx.Graph()\n",
        "G.add_edges_from([\n",
        "        ('a', 'b'),\n",
        "        ('a', 'd'),\n",
        "        ('c', 'd'),\n",
        "    ])"
      ],
      "execution_count": null,
      "outputs": []
    },
    {
      "cell_type": "code",
      "metadata": {
        "id": "fBUdWHk6gf-r",
        "outputId": "8f5fae39-ac76-49da-9b2e-9915632f7b38",
        "colab": {
          "base_uri": "https://localhost:8080/"
        }
      },
      "source": [
        "print(get_leaves(G))"
      ],
      "execution_count": null,
      "outputs": [
        {
          "output_type": "stream",
          "text": [
            "['b', 'c']\n"
          ],
          "name": "stdout"
        }
      ]
    },
    {
      "cell_type": "code",
      "metadata": {
        "id": "lc59OQA5huWQ"
      },
      "source": [
        "assert set(get_leaves(G)) == {'b', 'c'}"
      ],
      "execution_count": null,
      "outputs": []
    },
    {
      "cell_type": "markdown",
      "metadata": {
        "id": "BhbuhhQE16vQ"
      },
      "source": [
        "## Redes dirigidas"
      ]
    },
    {
      "cell_type": "code",
      "metadata": {
        "id": "uzwS3Ozo2CNF"
      },
      "source": [
        "D = nx.DiGraph()"
      ],
      "execution_count": 23,
      "outputs": []
    },
    {
      "cell_type": "code",
      "metadata": {
        "id": "JHA2-pxx2IHR",
        "outputId": "84018fbe-9b77-4881-dfed-03fd4f2b6811",
        "colab": {
          "base_uri": "https://localhost:8080/",
          "height": 319
        }
      },
      "source": [
        "D.add_edges_from([(1, 2), (2, 3), (3, 2), (3, 4), (3, 5), (4, 5), (4, 6), (5, 6), (6, 4), (4, 2)])\n",
        "nx.draw(D, with_labels=True)"
      ],
      "execution_count": 25,
      "outputs": [
        {
          "output_type": "display_data",
          "data": {
            "image/png": "[encoded data removed]",
            "text/plain": [
              "<Figure size 432x288 with 1 Axes>"
            ]
          },
          "metadata": {
            "tags": []
          }
        }
      ]
    },
    {
      "cell_type": "markdown",
      "metadata": {
        "id": "n6Y-hkiR2pn6"
      },
      "source": [
        "Una red dirigida origina algunas propiedades en los nodos, por ejemplo que el grado de un nodo se clasifique en:\n",
        "- Grado de entrada, el número de relaciones que llegan al nodo\n",
        "- Grado de salida, el número de relaciones que parten del nodo"
      ]
    },
    {
      "cell_type": "code",
      "metadata": {
        "id": "CjH7D1io2bxN",
        "outputId": "c241d5aa-ac16-4e56-f263-28ba72c13e3f",
        "colab": {
          "base_uri": "https://localhost:8080/",
          "height": 34
        }
      },
      "source": [
        "D.degree( 2 )"
      ],
      "execution_count": 26,
      "outputs": [
        {
          "output_type": "execute_result",
          "data": {
            "text/plain": [
              "4"
            ]
          },
          "metadata": {
            "tags": []
          },
          "execution_count": 26
        }
      ]
    },
    {
      "cell_type": "code",
      "metadata": {
        "id": "bYx1e_KT3K2i",
        "outputId": "6df33054-adef-4a9b-f7bb-539e1be46ab7",
        "colab": {
          "base_uri": "https://localhost:8080/",
          "height": 34
        }
      },
      "source": [
        "D.in_degree( 2 )"
      ],
      "execution_count": 27,
      "outputs": [
        {
          "output_type": "execute_result",
          "data": {
            "text/plain": [
              "3"
            ]
          },
          "metadata": {
            "tags": []
          },
          "execution_count": 27
        }
      ]
    },
    {
      "cell_type": "code",
      "metadata": {
        "id": "Tf32om9m3VFa",
        "outputId": "0e9a5537-c2c9-4c0d-bd44-8867e76e4712",
        "colab": {
          "base_uri": "https://localhost:8080/",
          "height": 34
        }
      },
      "source": [
        "D.out_degree( 2 )"
      ],
      "execution_count": 28,
      "outputs": [
        {
          "output_type": "execute_result",
          "data": {
            "text/plain": [
              "1"
            ]
          },
          "metadata": {
            "tags": []
          },
          "execution_count": 28
        }
      ]
    },
    {
      "cell_type": "markdown",
      "metadata": {
        "id": "AhTe9kSL3eFM"
      },
      "source": [
        "La sumatoria del grado de entra y salida es igual al grado de un nodo"
      ]
    },
    {
      "cell_type": "markdown",
      "metadata": {
        "id": "dh9UThuT3mBl"
      },
      "source": [
        "En una red dirigida también se provacan ciertas asimetrías, producto del sentido de la relación. Ejemplo:"
      ]
    },
    {
      "cell_type": "code",
      "metadata": {
        "id": "AP0t95Vl3Z8B",
        "outputId": "b5e9df84-839a-4d13-9b02-1799f45d6536",
        "colab": {
          "base_uri": "https://localhost:8080/",
          "height": 34
        }
      },
      "source": [
        "D.has_edge( 1, 2 )"
      ],
      "execution_count": 29,
      "outputs": [
        {
          "output_type": "execute_result",
          "data": {
            "text/plain": [
              "True"
            ]
          },
          "metadata": {
            "tags": []
          },
          "execution_count": 29
        }
      ]
    },
    {
      "cell_type": "code",
      "metadata": {
        "id": "rs2-Z2Mk31i4",
        "outputId": "53e5d9d5-c9bb-40d3-f4c6-49e17f26438a",
        "colab": {
          "base_uri": "https://localhost:8080/",
          "height": 34
        }
      },
      "source": [
        "D.has_edge( 2, 1 )"
      ],
      "execution_count": 30,
      "outputs": [
        {
          "output_type": "execute_result",
          "data": {
            "text/plain": [
              "False"
            ]
          },
          "metadata": {
            "tags": []
          },
          "execution_count": 30
        }
      ]
    },
    {
      "cell_type": "markdown",
      "metadata": {
        "id": "dqO3x8jz4M9C"
      },
      "source": [
        "Otro efecto que provoca una red dirigida es un nodo tiene vecinos sucesores y predecesores, así:"
      ]
    },
    {
      "cell_type": "code",
      "metadata": {
        "id": "58KXX3YR34GV",
        "outputId": "8bee470a-0119-423a-f90a-abcf93eebb40",
        "colab": {
          "base_uri": "https://localhost:8080/",
          "height": 51
        }
      },
      "source": [
        "print(\"Sucesores de 2\", list( D.successors( 2 ) ) )\n",
        "print('Predecesores de 2:', list( D.predecessors( 2 ) ) )"
      ],
      "execution_count": 31,
      "outputs": [
        {
          "output_type": "stream",
          "text": [
            "Sucesores de 2 [3]\n",
            "Predecesores de 2: [1, 3, 4]\n"
          ],
          "name": "stdout"
        }
      ]
    },
    {
      "cell_type": "markdown",
      "metadata": {
        "id": "CGlCxG9B5PnG"
      },
      "source": [
        "## Densidad de una red\n",
        "Existe una relación entre el número de enlaces existentes y el número máximo de enlaces, esa proporción se conoce como Densidad y es una medida a nivel de red.\n",
        "\n",
        "El número máximo de enlaces se puede obtener así\n",
        "\n",
        "$L_{max} = N ( N - 1 ) / 2$\n",
        "\n",
        "Para una red no dirigida la densidad se calcula así:\n",
        "\n",
        "$d = \\frac{L}{L_{max}} = \\frac{2L}{N ( N - 1 )}$\n",
        "\n",
        "Mientras que para una red dirigida:\n",
        "\n",
        "$d = L / L_{max} = \\frac{L}{N ( N - 1 )}$\n",
        "\n",
        "Afortudamente Network X tiene implementado un método que nos ayuda con esa actividad.\n"
      ]
    },
    {
      "cell_type": "code",
      "metadata": {
        "id": "z5O5AUVA7jl_",
        "outputId": "dfe952fa-722d-4dea-98b0-390f0581b1dc",
        "colab": {
          "base_uri": "https://localhost:8080/",
          "height": 34
        }
      },
      "source": [
        "nx.density( G )"
      ],
      "execution_count": 32,
      "outputs": [
        {
          "output_type": "execute_result",
          "data": {
            "text/plain": [
              "0.6666666666666666"
            ]
          },
          "metadata": {
            "tags": []
          },
          "execution_count": 32
        }
      ]
    },
    {
      "cell_type": "code",
      "metadata": {
        "id": "-r2orAhz7ozD",
        "outputId": "d3bdcc67-3527-4a80-f9a0-b6d0486db967",
        "colab": {
          "base_uri": "https://localhost:8080/",
          "height": 34
        }
      },
      "source": [
        "nx.density( D )"
      ],
      "execution_count": 33,
      "outputs": [
        {
          "output_type": "execute_result",
          "data": {
            "text/plain": [
              "0.3333333333333333"
            ]
          },
          "metadata": {
            "tags": []
          },
          "execution_count": 33
        }
      ]
    },
    {
      "cell_type": "markdown",
      "metadata": {
        "id": "DwRnBVrY8EPp"
      },
      "source": [
        "## Generación de redes\n",
        "\n",
        "NetworkX nos brinda la posibilidad de generar redes utilizando un conjunto de métodos de fácil uso.\n",
        "\n",
        "Así es posible generar varias redes siguiendo algunos de los modelos propuestos. Por ejemplo:\n",
        "\n",
        "Erdös-Renyi"
      ]
    },
    {
      "cell_type": "code",
      "metadata": {
        "id": "iMeMZFih7sx7",
        "outputId": "3ddd0e7c-baac-4556-b326-d6d2d4df7ca9",
        "colab": {
          "base_uri": "https://localhost:8080/",
          "height": 319
        }
      },
      "source": [
        "GER = nx.erdos_renyi_graph(10, 0)\n",
        "nx.draw( GER )"
      ],
      "execution_count": 34,
      "outputs": [
        {
          "output_type": "display_data",
          "data": {
            "image/png": "[encoded data removed]",
            "text/plain": [
              "<Figure size 432x288 with 1 Axes>"
            ]
          },
          "metadata": {
            "tags": []
          }
        }
      ]
    },
    {
      "cell_type": "code",
      "metadata": {
        "id": "OGpDzgnx84Vq",
        "outputId": "318c82fb-25a5-4b17-ac45-966ff500bda3",
        "colab": {
          "base_uri": "https://localhost:8080/",
          "height": 319
        }
      },
      "source": [
        "GER = nx.erdos_renyi_graph(10, 0.25)\n",
        "nx.draw( GER )"
      ],
      "execution_count": 39,
      "outputs": [
        {
          "output_type": "display_data",
          "data": {
            "image/png": "[encoded data removed]",
            "text/plain": [
              "<Figure size 432x288 with 1 Axes>"
            ]
          },
          "metadata": {
            "tags": []
          }
        }
      ]
    },
    {
      "cell_type": "markdown",
      "metadata": {
        "id": "HYooT8It9QDX"
      },
      "source": [
        "Otro modelo es el basado en la conexión preferencial propuesto de Albert y Barabási."
      ]
    },
    {
      "cell_type": "code",
      "metadata": {
        "id": "LfEy3OFW88_7",
        "outputId": "6ba985bd-1003-40c7-d9cb-6a993c208096",
        "colab": {
          "base_uri": "https://localhost:8080/",
          "height": 319
        }
      },
      "source": [
        "GAB = nx.barabasi_albert_graph(10, 3)\n",
        "nx.draw( GAB )"
      ],
      "execution_count": 41,
      "outputs": [
        {
          "output_type": "display_data",
          "data": {
            "image/png": "[encoded data removed]",
            "text/plain": [
              "<Figure size 432x288 with 1 Axes>"
            ]
          },
          "metadata": {
            "tags": []
          }
        }
      ]
    },
    {
      "cell_type": "markdown",
      "metadata": {
        "id": "07SHlFKIEAZJ"
      },
      "source": [
        "## Análisis de Datos desde Twitter\n",
        "\n",
        "Primero recolección de datos: Usar TAGS (https://tags.hawksey.info)\n",
        "\n",
        "\n",
        "---\n",
        "\n",
        "\n",
        "Segundo preprocesar los datos para generar redes\n",
        "\n",
        "```\n",
        "\n",
        " #MúsicaDesdeCaleta les trae el junte más esperado por 30 años! @rico5uave y\n",
        " @el_audiman cantándoles a dúo este clásico de los 90’s VEN MICHU MICHU y \n",
        " #QUEDATEENCASA #YoMeQuedoEnCasa https://t.co/CtUXpBKN1b\n",
        "\n",
        "```\n",
        "\n",
        "(DANIELPAEZMusic)\n",
        "\n",
        "\n"
      ]
    },
    {
      "cell_type": "code",
      "metadata": {
        "id": "LNJpoL9D9ltp"
      },
      "source": [
        "import pandas as pd"
      ],
      "execution_count": 42,
      "outputs": []
    },
    {
      "cell_type": "code",
      "metadata": {
        "id": "fUZSqIUcAEjy"
      },
      "source": [
        "df = pd.read_csv(\"http://j4loxa.com/files/laclo2020/graph_hashtags.csv\")"
      ],
      "execution_count": 43,
      "outputs": []
    },
    {
      "cell_type": "code",
      "metadata": {
        "id": "S8q__BTTAddO"
      },
      "source": [
        "GraphType = nx.Graph()"
      ],
      "execution_count": 46,
      "outputs": []
    },
    {
      "cell_type": "code",
      "metadata": {
        "id": "rqG10P8fAgzz"
      },
      "source": [
        "ght = nx.from_pandas_edgelist( df, create_using=GraphType)"
      ],
      "execution_count": 47,
      "outputs": []
    },
    {
      "cell_type": "code",
      "metadata": {
        "id": "MqW9LIx3BOtB",
        "outputId": "37e37ae5-89e6-41ba-d5c6-40f5cea0faad",
        "colab": {
          "base_uri": "https://localhost:8080/",
          "height": 102
        }
      },
      "source": [
        "print(nx.info( ght ))"
      ],
      "execution_count": 49,
      "outputs": [
        {
          "output_type": "stream",
          "text": [
            "Name: \n",
            "Type: Graph\n",
            "Number of nodes: 144\n",
            "Number of edges: 173\n",
            "Average degree:   2.4028\n"
          ],
          "name": "stdout"
        }
      ]
    },
    {
      "cell_type": "code",
      "metadata": {
        "id": "uEU_8Db4BJ5_",
        "outputId": "fdb7e073-45fa-4ac2-ab0a-223350a0367b",
        "colab": {
          "base_uri": "https://localhost:8080/",
          "height": 319
        }
      },
      "source": [
        "nx.draw(ght)"
      ],
      "execution_count": 50,
      "outputs": [
        {
          "output_type": "display_data",
          "data": {
            "image/png": "[encoded data removed]",
            "text/plain": [
              "<Figure size 432x288 with 1 Axes>"
            ]
          },
          "metadata": {
            "tags": []
          }
        }
      ]
    },
    {
      "cell_type": "markdown",
      "metadata": {
        "id": "yc3I6MU3GqTg"
      },
      "source": [
        "## Hubs\n",
        "un centro alrededor del cual otras cosas giran o desde donde irradian; un foco de actividad, autoridad, comercio, transporte, etc.\n",
        "\n",
        "La importancia de un nodo o enlace se calcula utilizando las medidas de centralidad."
      ]
    },
    {
      "cell_type": "markdown",
      "metadata": {
        "id": "k0SIyoiIIhzr"
      },
      "source": [
        "### Degree"
      ]
    },
    {
      "cell_type": "code",
      "metadata": {
        "id": "XSRHxuamC7mS"
      },
      "source": [
        "highest_degree_node = max( ght.nodes, key=ght.degree )"
      ],
      "execution_count": 54,
      "outputs": []
    },
    {
      "cell_type": "code",
      "metadata": {
        "id": "TnJdmxJHGI-w",
        "outputId": "b1d6668f-aefc-4c4d-8259-1c8a6462c185",
        "colab": {
          "base_uri": "https://localhost:8080/",
          "height": 34
        }
      },
      "source": [
        "print(highest_degree_node)"
      ],
      "execution_count": 55,
      "outputs": [
        {
          "output_type": "stream",
          "text": [
            "MusicaDesdeCaleta*\n"
          ],
          "name": "stdout"
        }
      ]
    },
    {
      "cell_type": "code",
      "metadata": {
        "id": "t7bnSFhtGLkX",
        "outputId": "1227b913-9e10-473b-a9fe-d7aecf55df0d",
        "colab": {
          "base_uri": "https://localhost:8080/",
          "height": 34
        }
      },
      "source": [
        "ght.degree(highest_degree_node)"
      ],
      "execution_count": 56,
      "outputs": [
        {
          "output_type": "execute_result",
          "data": {
            "text/plain": [
              "49"
            ]
          },
          "metadata": {
            "tags": []
          },
          "execution_count": 56
        }
      ]
    },
    {
      "cell_type": "markdown",
      "metadata": {
        "id": "oGThBFYiIgxI"
      },
      "source": [
        "### Closeness (Cercanía)\n",
        "\n",
        "¿Cuál es el nodo que está más cerca a todos los demás?"
      ]
    },
    {
      "cell_type": "code",
      "metadata": {
        "id": "6YfFRhWII-bn"
      },
      "source": [
        "closeness = nx.centrality.closeness_centrality(ght)"
      ],
      "execution_count": 58,
      "outputs": []
    },
    {
      "cell_type": "code",
      "metadata": {
        "id": "2VVny8PaJFom",
        "outputId": "7865facb-6363-4f9c-e769-3adc89d26d70",
        "colab": {
          "base_uri": "https://localhost:8080/",
          "height": 34
        }
      },
      "source": [
        "highest_closeness_node = max( ght.nodes, key = closeness.get )\n",
        "print(highest_closeness_node)"
      ],
      "execution_count": 59,
      "outputs": [
        {
          "output_type": "stream",
          "text": [
            "MusicaDesdeCaleta*\n"
          ],
          "name": "stdout"
        }
      ]
    },
    {
      "cell_type": "code",
      "metadata": {
        "id": "ao5AdsQiJeFy",
        "outputId": "235e2b84-6333-4563-871c-c9997edfe130",
        "colab": {
          "base_uri": "https://localhost:8080/",
          "height": 34
        }
      },
      "source": [
        "closeness[highest_closeness_node]"
      ],
      "execution_count": 60,
      "outputs": [
        {
          "output_type": "execute_result",
          "data": {
            "text/plain": [
              "0.41210374639769454"
            ]
          },
          "metadata": {
            "tags": []
          },
          "execution_count": 60
        }
      ]
    },
    {
      "cell_type": "markdown",
      "metadata": {
        "id": "R-EgDzv9Jv4i"
      },
      "source": [
        "### Betweenness (Intermediación)\n",
        "\n",
        "¿Cuál es el nodo puente? (cual es nodo por el cual me veo obligado pasar para llegar a otros)"
      ]
    },
    {
      "cell_type": "code",
      "metadata": {
        "id": "EUr52tTlJnAZ"
      },
      "source": [
        "betweenness = nx.centrality.betweenness_centrality( ght )"
      ],
      "execution_count": 61,
      "outputs": []
    },
    {
      "cell_type": "code",
      "metadata": {
        "id": "_dnILhSIKPu3",
        "outputId": "841aa256-0811-4764-e55f-66dc5929344c",
        "colab": {
          "base_uri": "https://localhost:8080/",
          "height": 34
        }
      },
      "source": [
        "highest_betweenness_node = max ( ght.nodes, key = betweenness.get )\n",
        "print(highest_betweenness_node)"
      ],
      "execution_count": 62,
      "outputs": [
        {
          "output_type": "stream",
          "text": [
            "MusicaDesdeCaleta*\n"
          ],
          "name": "stdout"
        }
      ]
    },
    {
      "cell_type": "markdown",
      "metadata": {
        "id": "d2vWtHIVKtBr"
      },
      "source": [
        "### Distribución de la centralidad\n",
        "Es mucho mejor resumir la información acerca de la centralidad de todos los nodos. Por ejemplo, adicionalmente al nodo como máximo degree o cercanía o intermediación.\n",
        "\n",
        "Para resumir la información se debe obtener una secuencia de todos los valores de centralidad"
      ]
    },
    {
      "cell_type": "code",
      "metadata": {
        "id": "vRKFIgEuKgrU"
      },
      "source": [
        "degree_sequence = [ght.degree(n) for n in ght.nodes]"
      ],
      "execution_count": 66,
      "outputs": []
    },
    {
      "cell_type": "code",
      "metadata": {
        "id": "qaarU1vHLiQS"
      },
      "source": [
        "import statistics"
      ],
      "execution_count": 64,
      "outputs": []
    },
    {
      "cell_type": "code",
      "metadata": {
        "id": "eY4geUmcLlBd",
        "outputId": "940f4dd5-3742-4a24-e39b-beffd1ee390f",
        "colab": {
          "base_uri": "https://localhost:8080/",
          "height": 51
        }
      },
      "source": [
        "print( \"Grado medio: \", statistics.mean( degree_sequence ) )\n",
        "print( \"Mediana del grado\", statistics.median( degree_sequence ) )"
      ],
      "execution_count": 67,
      "outputs": [
        {
          "output_type": "stream",
          "text": [
            "Grado medio:  2.4027777777777777\n",
            "Mediana del grado 2.0\n"
          ],
          "name": "stdout"
        }
      ]
    },
    {
      "cell_type": "markdown",
      "metadata": {
        "id": "hMAnrBSQMTgO"
      },
      "source": [
        "En caso de cercanía e intermediación"
      ]
    },
    {
      "cell_type": "code",
      "metadata": {
        "id": "zyq4DKpWL8mM",
        "outputId": "f1e97bea-f9e3-44ce-f93c-95f0e179c7b3",
        "colab": {
          "base_uri": "https://localhost:8080/",
          "height": 51
        }
      },
      "source": [
        "betweenness_sequence = list( betweenness.values() )\n",
        "print( \"Intermediación medio: \", statistics.mean( betweenness_sequence ) )\n",
        "print( \"Mediana de la intermediación\", statistics.median( betweenness_sequence ) )"
      ],
      "execution_count": 68,
      "outputs": [
        {
          "output_type": "stream",
          "text": [
            "Intermediación medio:  0.025182075358131696\n",
            "Mediana de la intermediación 0.004268032437046522\n"
          ],
          "name": "stdout"
        }
      ]
    },
    {
      "cell_type": "markdown",
      "metadata": {
        "id": "_QrBs464My7m"
      },
      "source": [
        "### Graficar las distribuciones\n",
        "\n",
        "Se puede utilizar histogramas, que muestra el valor del grado en el eje *x* y el número de nodos que tienen ese grado en el eje *y*.\n",
        "\n",
        "Para hacer este conteo, usaremos la clase counter de collections, que se importa así:"
      ]
    },
    {
      "cell_type": "code",
      "metadata": {
        "id": "oNvm4NwFMvsK"
      },
      "source": [
        "from collections import Counter"
      ],
      "execution_count": 70,
      "outputs": []
    },
    {
      "cell_type": "code",
      "metadata": {
        "id": "gqFiWTorNVsT",
        "outputId": "6d749707-3ce4-46c3-f55f-964a03c6817e",
        "colab": {
          "base_uri": "https://localhost:8080/",
          "height": 34
        }
      },
      "source": [
        "degree_counts = Counter(degree_sequence)\n",
        "degree_counts"
      ],
      "execution_count": 71,
      "outputs": [
        {
          "output_type": "execute_result",
          "data": {
            "text/plain": [
              "Counter({1: 48, 2: 79, 3: 8, 4: 4, 5: 1, 9: 1, 12: 1, 25: 1, 49: 1})"
            ]
          },
          "metadata": {
            "tags": []
          },
          "execution_count": 71
        }
      ]
    },
    {
      "cell_type": "markdown",
      "metadata": {
        "id": "QIxBFIP1qfjk"
      },
      "source": [
        "El objeto devuelto, *degree_counts* en donde está el elemento contado y la veces que apareció en la secuencia."
      ]
    },
    {
      "cell_type": "markdown",
      "metadata": {
        "id": "oU1o0FhTrGa9"
      },
      "source": [
        "En el histograma básico que elaboramos, queremos que el valor x para cada número entero entre el grado mínimo y máximo en la secuencia, incluidos.\n",
        "\n",
        "Entonces se genera una lista con todos los valores que están en el rango."
      ]
    },
    {
      "cell_type": "code",
      "metadata": {
        "id": "419d_z-HNbb7"
      },
      "source": [
        "min_degree, max_degree = min(degree_counts.keys()), max(degree_counts.keys())\n",
        "\n",
        "plot_x = list(range(min_degree, max_degree + 1))"
      ],
      "execution_count": 72,
      "outputs": []
    },
    {
      "cell_type": "markdown",
      "metadata": {
        "id": "TA7v2M_ErpnU"
      },
      "source": [
        "Los valores para el eje y, corresponden al número de nodos que tienen el valor del eje x. \n",
        "Entonces se genera una lista, con los valores que están en la secuencia y que corresponden a los valores de x, sino existe ese valor se asigna 0."
      ]
    },
    {
      "cell_type": "code",
      "metadata": {
        "id": "hwyOu1fLNnwm"
      },
      "source": [
        "plot_y = [degree_counts.get(x, 0) for x in plot_x]"
      ],
      "execution_count": 73,
      "outputs": []
    },
    {
      "cell_type": "markdown",
      "metadata": {
        "id": "yVz39fBUsTTU"
      },
      "source": [
        "Para realizar el gráfico, se usará Matplotlib, concretamente el módulo pyplot. Necesitamos hacer el siguiente import."
      ]
    },
    {
      "cell_type": "code",
      "metadata": {
        "id": "u8iik1s-NrCj"
      },
      "source": [
        "import matplotlib.pyplot as plt"
      ],
      "execution_count": 74,
      "outputs": []
    },
    {
      "cell_type": "markdown",
      "metadata": {
        "id": "T3DSVCq5siCc"
      },
      "source": [
        "Ejecutar la siguiente sentencia, usando las listas que se obtuvieron anteriormente."
      ]
    },
    {
      "cell_type": "code",
      "metadata": {
        "id": "Kyr8jDrYNyFP",
        "outputId": "44efdf23-4cc8-4c04-9408-5e8af3c6ec1d",
        "colab": {
          "base_uri": "https://localhost:8080/",
          "height": 282
        }
      },
      "source": [
        "plt.bar(plot_x, plot_y)"
      ],
      "execution_count": 75,
      "outputs": [
        {
          "output_type": "execute_result",
          "data": {
            "text/plain": [
              "<BarContainer object of 49 artists>"
            ]
          },
          "metadata": {
            "tags": []
          },
          "execution_count": 75
        },
        {
          "output_type": "display_data",
          "data": {
            "image/png": "[encoded data removed]",
            "text/plain": [
              "<Figure size 432x288 with 1 Axes>"
            ]
          },
          "metadata": {
            "tags": [],
            "needs_background": "light"
          }
        }
      ]
    },
    {
      "cell_type": "markdown",
      "metadata": {
        "id": "iKEZGNZksr8E"
      },
      "source": [
        "Cuando hay demasiados valores en X de lo que se puede mostrar adecuadamente o cuando la medida que se usa es no discreta, como es el caso de la intermediación, es posible usar *binning* del histograma, que es dividir un eje en rangos o binning"
      ]
    },
    {
      "cell_type": "code",
      "metadata": {
        "id": "oLYxRZJfNyw5",
        "outputId": "e375387d-0172-4785-8c02-f60e4887f06b",
        "colab": {
          "base_uri": "https://localhost:8080/",
          "height": 265
        }
      },
      "source": [
        "counts, bins, patches = plt.hist(betweenness_sequence, bins=10)"
      ],
      "execution_count": 78,
      "outputs": [
        {
          "output_type": "display_data",
          "data": {
            "image/png": "[encoded data removed]",
            "text/plain": [
              "<Figure size 432x288 with 1 Axes>"
            ]
          },
          "metadata": {
            "tags": [],
            "needs_background": "light"
          }
        }
      ]
    },
    {
      "cell_type": "code",
      "metadata": {
        "id": "4vnwSJ0dPDtD"
      },
      "source": [
        ""
      ],
      "execution_count": null,
      "outputs": []
    }
  ]
}